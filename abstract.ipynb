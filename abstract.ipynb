{
 "cells": [
  {
   "cell_type": "markdown",
   "metadata": {},
   "source": [
    "# This notebook is meant to serve as an abstract to the seminar topic of **Stacking in Order to Measure Treatment Effects.** "
   ]
  },
  {
   "cell_type": "markdown",
   "metadata": {},
   "source": [
    "## 1. Motivation\n",
    "\n",
    "In a marketing context (controlled studies) -- marketing tactics can be seen as a \"treatment\" on a group of customers. The assignment of a voucher or gift certificate can, for example, increase consumption in an online shop when given to the right customer. The effectiveness of a voucher on customers given their other covariates (age, gender, previous purchases, search history, etc.) can determine the most profitable assignemnt in the future. \n",
    "\n",
    "average treatment effect - does the voucher have any effect at all?\n",
    "conditional avearge treatment effect - groups with the highest CATE can be targeted in future marketing campaigns. \n",
    "\n",
    "marketing-adjacent applications : political campaigns, \"get-out-the-vote\" calls. The literature looks at observaitonal studies that measure the effectiveness of (the \"treatment\" of) \"get out the vote\" calls, reminding citizens to vote in elections.\n",
    "\n",
    "### the role of machine learning in this: \n",
    "\n",
    "**figure out: why bother doing machine learning on the propensity score, can we not just figure out analytically given the sample, what the propensity score for each person is?**\n",
    "\n",
    "we can use machine learning to estimate the treatment effect of a campaign - though it may be interesting, we do not care about the functional form of the covariates effect on the outcome (buy on a website, vote in an election, attribute credit or blame to a candiate...), as we can not modify our sample in order to achive different results. we can only direct the treatment to where it will be most effective. \n",
    "\n",
    "!!!! insert blah blah blah on stacking and how great it is...\n",
    "\n",
    "if it is advantageous to use machine learning over purely econometric methods, then there is a role for ensemble methods in a treatment effects / causal machine learning context.\n",
    "    \n",
    "### literature review... \n",
    "\n",
    "**Nie, Wager** : on stacking, simulated data and test on political data. they have what they call the \"R-learner\" a novel way to combine machine learning models in order to determine the best treatment effect estimator (conditonal average treatment effects, i believe...)\n",
    "\n",
    "**Grimmer et al**: also on stacking, uses a real dataset, (as i recall..) has a novel way of comparing a single-model estimate of a treatment effect to the ensemble version.\n",
    "uses (simulated??) data to compare the effectiveness of each model chosen (9 or 12 different methods of modelling) on differnt types of (more, less sparse, more less heterogenus, etc.) datasets.\n",
    "\n",
    "**Chernozhukov et al.** On \"double machine learning\" -- the procedure (i believe) we shall be adopting for our experiments."
   ]
  },
  {
   "cell_type": "markdown",
   "metadata": {},
   "source": [
    "## 2. Procedure\n",
    "\n",
    "### some options -- depends on the quesion that we wish to answer ..\n",
    "\n",
    "GIVEN THAT WE WILL HAVE TO SIMULATE ALL OF OUR DATA. \n",
    "\n",
    "**1.) vary some of the parameters of our data generation process and compare the performance of:**\n",
    "\n",
    "    a.) single models vs. stacking; do some models really work better on different kinds of data as shown in Grimmer et al. \n",
    "    b.) the accuracy of stacking on different types of data. \n",
    "\n",
    "**2.) try to implement the R learner vs. bagging or somethig else, and on different underlying data?**  not sure either.\n",
    "\n",
    "**3.) implement different kinds of \"studies\" on the data** - (from Nie & Wager)\n",
    "  \n",
    "    a.) lots of confounding of the covariates, but clear treatment effect. (EQUIVALENT TO R SCRIPT : theta_s)\n",
    "    b.) randomized trial ; generate data (skewed perhaps to some covariates?) and see how stacking works compared to single model.. (IN R SCRIPT : just the parameter random assignment.)\n",
    "    c.) \"easy propensity score and difficult baseline\" (WHAT IS THE DATA GENERATION PROCESS HERE AS IN R SCRIPT?)\n",
    "    d.) unrelated treatment and control arms - (ie no way to compare the treated and the untreated? HOW WOULD WE DO THIS EITHER?)\n",
    "    \n",
    "NB: from Nie & Wager in setups a and c, where there is complicated confounding that needs to be overcome before we can estimate a simple treatment funciton, some learners will stand out over others.\n"
   ]
  },
  {
   "cell_type": "markdown",
   "metadata": {},
   "source": [
    "### Aside: how does the simulated data generation process work? \n",
    "\n",
    "generate data with: \n",
    "- a number of observations\n",
    "- number of covariates\n",
    "- treatment assignment; can be random or confounded on X. (the propensity scores of any of the treated is higher depending on X?)\n",
    "- variance: the noise level or the U, V as referred to in the intro slides.\n",
    "- THETA: the treatment effect itself; can be constant, binary, or continuous \n",
    "<br>\n",
    "**how does the script determine what treatment effect happens on any given y? \n",
    "is it the case that we are attempting to simulate a treatment effect on a certain group (nonzero conditional treatment effect), and how does the script do that?**\n",
    "\n",
    "the script shows how to generate datasets with a linear, nonlinear or constant treatment effect. \n",
    "HOW TO INTERPRET THESE PLOTS IN THE R SCRIPT? \n",
    "\n",
    " - **constant treatment effect:** no matter the covariates, the treatment effect is the same. one dose of drug X makes your hair grow 2 inches.\n",
    " - **linear treatment effect:** linear relationship with one(?) covariate? ie treatment grows hair longer as a linear function of age. how does this appear in the script? \n",
    " - **nonlinear treatment effect:** nonlinear (log, exp) relationship with the outcome given some level of covariates. treatment grows hair longer as a logarithmic function of age. \n",
    "\n",
    "when the Nie & Wager say they test on \"easy propensity score and difficult baseline\" what does this mean? what is an \"easy propensity score\"? \n"
   ]
  },
  {
   "cell_type": "markdown",
   "metadata": {},
   "source": [
    "### Some vocabulary: \n",
    "\n",
    "**doubly-robust estimator:** Doubly robust estimation combines a form of outcome regression with a model for the exposure (i.e., the propensity score) to estimate the causal effect of an exposure on an outcome"
   ]
  }
 ],
 "metadata": {
  "kernelspec": {
   "display_name": "Python 2",
   "language": "python",
   "name": "python2"
  },
  "language_info": {
   "codemirror_mode": {
    "name": "ipython",
    "version": 2
   },
   "file_extension": ".py",
   "mimetype": "text/x-python",
   "name": "python",
   "nbconvert_exporter": "python",
   "pygments_lexer": "ipython2",
   "version": "2.7.15"
  }
 },
 "nbformat": 4,
 "nbformat_minor": 2
}
